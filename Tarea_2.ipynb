{
  "nbformat": 4,
  "nbformat_minor": 0,
  "metadata": {
    "colab": {
      "provenance": [],
      "authorship_tag": "ABX9TyNGtFxym0PC9SWsMvxt8U7+",
      "include_colab_link": true
    },
    "kernelspec": {
      "name": "python3",
      "display_name": "Python 3"
    },
    "language_info": {
      "name": "python"
    }
  },
  "cells": [
    {
      "cell_type": "markdown",
      "metadata": {
        "id": "view-in-github",
        "colab_type": "text"
      },
      "source": [
        "<a href=\"https://colab.research.google.com/github/Ben-1978/Para-tarea/blob/main/Tarea_2.ipynb\" target=\"_parent\"><img src=\"https://colab.research.google.com/assets/colab-badge.svg\" alt=\"Open In Colab\"/></a>"
      ]
    },
    {
      "cell_type": "markdown",
      "source": [
        "# __Practica #2__\n",
        "\n",
        "## Nombre: Benjamin Perez Guerrero\n",
        "\n",
        "## Matrícula: 22-Eisn-2-034\n",
        "\n",
        "## Fecha de entrega: Miércoles 31 del 2024"
      ],
      "metadata": {
        "id": "nj_VTKfUv_y2"
      }
    },
    {
      "cell_type": "markdown",
      "source": [
        "## **__1. Hable de:  Los Agentes Inteligentes__**"
      ],
      "metadata": {
        "id": "cEMpX2xXwm79"
      }
    },
    {
      "cell_type": "markdown",
      "source": [
        "\n",
        "## **__Agentes Inteligentes__**\n",
        "\n",
        "### __Concepto__\n",
        "Un **Agente Inteligente**, es una entidad capaz de percibir su entorno, procesar tales percepciones y responder o actuar en su entorno de manera racional, es decir, de manera correcta y tendiendo a maximizar un resultado esperado. Es capaz de percibir su medio ambiente con la ayuda de sensores y actuar en ese medio utilizando actuadores (elementos que reaccionan a un estímulo realizando una acción).\n",
        "\n",
        "Un **Agente Inteligente** es un sistema que tiene la habilidad de ver, analizar y reaccionar a su entorno de manera racional, tomando decisiones que buscan maximizar los resultados esperados. Los agentes inteligentes pueden ver su entorno a través de sensores y realizar acciones en él mediante actuadores.\n",
        "\n",
        "Utilizar el asistente de voz de nuestro teléfono móvil, pedirle a Alexa que ponga una canción, atender las sugerencias de producto que nos hacen páginas como Amazon u obtener información a través de Google Maps son tan solo algunos ejemplos de cómo los agentes inteligentes forman ya parte de la vida diaria de millones de personas en todo el mundo.\n",
        "\n",
        "### __Tipos de Agentes Inteligentes__\n",
        "\n",
        "1. **Agentes reflejos simples**: Trabajan únicamente sobre la percepción actual, sin considerar el histórico de sensaciones. Por ello, solamente tienen éxito cuándo están ante un entorno que puede percibirse en su totalidad.\n",
        "\n",
        "2. **Agentes reflejos basados en modelos**: Este tipo de agentes sí consideran el historial y, por lo tanto, pueden actuar en un escenario que no se observa por completo, teniendo así una visión más completa del mismo.\n",
        "\n",
        "3. **Agentes basados en metas**: Como su nombre indica, este agente tiene un objetivo fijado, lo que hará que elija la mejor opción entre las que estén disponibles para alcanzar su propósito.\n",
        "\n",
        "4. **Agentes basados en la utilidad**: Son parecidos a los agentes orientados a metas, pero cuentan con la ventaja de proporcionar una medida sobre la utilidad de la acción. De esta forma, el agente estudia también el beneficio de la operación a la hora de tomar su decisión, permitiendo así compensar diferentes factores.\n",
        "\n",
        "> *Fuente: https://www.unir.net/ingenieria/revista/agentes-inteligentes/*\n"
      ],
      "metadata": {
        "id": "65BnpU2dxsoy"
      }
    },
    {
      "cell_type": "markdown",
      "source": [
        "## **__3. Haga una comparación entre los agentes inteligentes y los objetos en la Orientación a Objetos.__**\n",
        "\n",
        "### **Cuadro comparativo entre: Los Agentes Inteligentes y Los Objetos en la Orientación a Objetos**\n",
        "\n",
        "| AGENTE INTELIGENTE  | OBJETOS EN POO|\n",
        "|-------------------  |---------------|\n",
        "La principal abstracción utilizada es un agente| La principal abstracción es un objeto\n",
        "Los agentes inteligentes tienen la capacidad de tomar decisiones| Los objetos de programación ayudan a organizar y modularizar el código.\n",
        "Los agentes inteligentes pueden aprender de la experiencia y adaptarse a situaciones cambiantes| Los objetos de programación son pasivos y no tienen autonomía.\n",
        "Los agentes inteligentes pueden comunicarse con otros agentes| Los objetos de programación permiten representar conceptos del mundo real en el software.\n",
        "No son invocados estrictamente por una tarea, sino que se activan ellos mismos | Los objetos deben ser invocados\n"
      ],
      "metadata": {
        "id": "7oNAWso45uS7"
      }
    },
    {
      "cell_type": "markdown",
      "source": [
        "## **__4. Usando una celda python desarrolle un agente utilizando la programacion orientada a objetos.__**"
      ],
      "metadata": {
        "id": "QueFn9le6VMI"
      }
    },
    {
      "cell_type": "code",
      "source": [
        "! git clone https://github.com/Ben-1978/Para-tarea.git"
      ],
      "metadata": {
        "colab": {
          "base_uri": "https://localhost:8080/"
        },
        "id": "LyvhAJCrpz-0",
        "outputId": "0e70e5eb-71bf-4f46-e740-bc9c3072f5ef"
      },
      "execution_count": 14,
      "outputs": [
        {
          "output_type": "stream",
          "name": "stdout",
          "text": [
            "Cloning into 'Para-tarea'...\n",
            "remote: Enumerating objects: 3, done.\u001b[K\n",
            "remote: Counting objects: 100% (3/3), done.\u001b[K\n",
            "remote: Compressing objects: 100% (2/2), done.\u001b[K\n",
            "remote: Total 3 (delta 0), reused 0 (delta 0), pack-reused 0\u001b[K\n",
            "Receiving objects: 100% (3/3), done.\n"
          ]
        }
      ]
    },
    {
      "cell_type": "code",
      "source": [
        "import pandas as pd"
      ],
      "metadata": {
        "id": "2j2bLjLDp7nK"
      },
      "execution_count": 15,
      "outputs": []
    },
    {
      "cell_type": "code",
      "source": [
        "data=pd.read_csv(\"/content/Para-tarea/mis datos.csv\")"
      ],
      "metadata": {
        "id": "ifeQVddbqFuR"
      },
      "execution_count": 16,
      "outputs": []
    },
    {
      "cell_type": "code",
      "source": [],
      "metadata": {
        "id": "2L5NJkC1qIDG"
      },
      "execution_count": null,
      "outputs": []
    },
    {
      "cell_type": "code",
      "source": [
        "data.head()"
      ],
      "metadata": {
        "colab": {
          "base_uri": "https://localhost:8080/",
          "height": 81
        },
        "id": "1b4yl1MGqMcX",
        "outputId": "188b4b7e-8372-4b36-9077-e68566e6dfe7"
      },
      "execution_count": 17,
      "outputs": [
        {
          "output_type": "execute_result",
          "data": {
            "text/plain": [
              "     nombre        apellido  edad\n",
              "0  Benjamin  Perez Guerrero    45"
            ],
            "text/html": [
              "\n",
              "  <div id=\"df-86084f6c-1069-4e8d-8661-ea38bb4ae894\" class=\"colab-df-container\">\n",
              "    <div>\n",
              "<style scoped>\n",
              "    .dataframe tbody tr th:only-of-type {\n",
              "        vertical-align: middle;\n",
              "    }\n",
              "\n",
              "    .dataframe tbody tr th {\n",
              "        vertical-align: top;\n",
              "    }\n",
              "\n",
              "    .dataframe thead th {\n",
              "        text-align: right;\n",
              "    }\n",
              "</style>\n",
              "<table border=\"1\" class=\"dataframe\">\n",
              "  <thead>\n",
              "    <tr style=\"text-align: right;\">\n",
              "      <th></th>\n",
              "      <th>nombre</th>\n",
              "      <th>apellido</th>\n",
              "      <th>edad</th>\n",
              "    </tr>\n",
              "  </thead>\n",
              "  <tbody>\n",
              "    <tr>\n",
              "      <th>0</th>\n",
              "      <td>Benjamin</td>\n",
              "      <td>Perez Guerrero</td>\n",
              "      <td>45</td>\n",
              "    </tr>\n",
              "  </tbody>\n",
              "</table>\n",
              "</div>\n",
              "    <div class=\"colab-df-buttons\">\n",
              "\n",
              "  <div class=\"colab-df-container\">\n",
              "    <button class=\"colab-df-convert\" onclick=\"convertToInteractive('df-86084f6c-1069-4e8d-8661-ea38bb4ae894')\"\n",
              "            title=\"Convert this dataframe to an interactive table.\"\n",
              "            style=\"display:none;\">\n",
              "\n",
              "  <svg xmlns=\"http://www.w3.org/2000/svg\" height=\"24px\" viewBox=\"0 -960 960 960\">\n",
              "    <path d=\"M120-120v-720h720v720H120Zm60-500h600v-160H180v160Zm220 220h160v-160H400v160Zm0 220h160v-160H400v160ZM180-400h160v-160H180v160Zm440 0h160v-160H620v160ZM180-180h160v-160H180v160Zm440 0h160v-160H620v160Z\"/>\n",
              "  </svg>\n",
              "    </button>\n",
              "\n",
              "  <style>\n",
              "    .colab-df-container {\n",
              "      display:flex;\n",
              "      gap: 12px;\n",
              "    }\n",
              "\n",
              "    .colab-df-convert {\n",
              "      background-color: #E8F0FE;\n",
              "      border: none;\n",
              "      border-radius: 50%;\n",
              "      cursor: pointer;\n",
              "      display: none;\n",
              "      fill: #1967D2;\n",
              "      height: 32px;\n",
              "      padding: 0 0 0 0;\n",
              "      width: 32px;\n",
              "    }\n",
              "\n",
              "    .colab-df-convert:hover {\n",
              "      background-color: #E2EBFA;\n",
              "      box-shadow: 0px 1px 2px rgba(60, 64, 67, 0.3), 0px 1px 3px 1px rgba(60, 64, 67, 0.15);\n",
              "      fill: #174EA6;\n",
              "    }\n",
              "\n",
              "    .colab-df-buttons div {\n",
              "      margin-bottom: 4px;\n",
              "    }\n",
              "\n",
              "    [theme=dark] .colab-df-convert {\n",
              "      background-color: #3B4455;\n",
              "      fill: #D2E3FC;\n",
              "    }\n",
              "\n",
              "    [theme=dark] .colab-df-convert:hover {\n",
              "      background-color: #434B5C;\n",
              "      box-shadow: 0px 1px 3px 1px rgba(0, 0, 0, 0.15);\n",
              "      filter: drop-shadow(0px 1px 2px rgba(0, 0, 0, 0.3));\n",
              "      fill: #FFFFFF;\n",
              "    }\n",
              "  </style>\n",
              "\n",
              "    <script>\n",
              "      const buttonEl =\n",
              "        document.querySelector('#df-86084f6c-1069-4e8d-8661-ea38bb4ae894 button.colab-df-convert');\n",
              "      buttonEl.style.display =\n",
              "        google.colab.kernel.accessAllowed ? 'block' : 'none';\n",
              "\n",
              "      async function convertToInteractive(key) {\n",
              "        const element = document.querySelector('#df-86084f6c-1069-4e8d-8661-ea38bb4ae894');\n",
              "        const dataTable =\n",
              "          await google.colab.kernel.invokeFunction('convertToInteractive',\n",
              "                                                    [key], {});\n",
              "        if (!dataTable) return;\n",
              "\n",
              "        const docLinkHtml = 'Like what you see? Visit the ' +\n",
              "          '<a target=\"_blank\" href=https://colab.research.google.com/notebooks/data_table.ipynb>data table notebook</a>'\n",
              "          + ' to learn more about interactive tables.';\n",
              "        element.innerHTML = '';\n",
              "        dataTable['output_type'] = 'display_data';\n",
              "        await google.colab.output.renderOutput(dataTable, element);\n",
              "        const docLink = document.createElement('div');\n",
              "        docLink.innerHTML = docLinkHtml;\n",
              "        element.appendChild(docLink);\n",
              "      }\n",
              "    </script>\n",
              "  </div>\n",
              "\n",
              "\n",
              "    </div>\n",
              "  </div>\n"
            ]
          },
          "metadata": {},
          "execution_count": 17
        }
      ]
    },
    {
      "cell_type": "code",
      "source": [
        "class ConversorMoneda:\n",
        "    def __init__(self):\n",
        "        self.tipo_cambio = {\n",
        "            \"USD\": 1.0,\n",
        "            \"RD$\": 55.6,\n",
        "\n",
        "        }\n",
        "\n",
        "    def convertir(self, cantidad, moneda_origen, moneda_destino):\n",
        "        if moneda_origen not in self.tipo_cambio or moneda_destino not in self.tipo_cambio:\n",
        "            return \"Moneda no admitida\"\n",
        "\n",
        "        tasa_origen = self.tipo_cambio[moneda_origen]\n",
        "        tasa_destino = self.tipo_cambio[moneda_destino]\n",
        "\n",
        "        cantidad_convertida = cantidad * (tasa_destino / tasa_origen)\n",
        "        return cantidad_convertida\n",
        "\n",
        "# Uso del agente ConversorMoneda\n",
        "conversor = ConversorMoneda()\n",
        "\n",
        "# Conversión de 100 USD a RD$\n",
        "cantidad_convertida = conversor.convertir(100, \"USD\", \"RD$\")\n",
        "print(\"====================================================\")\n",
        "print(f\"El Agente dice:  USD100 equivalen a RD${cantidad_convertida}\")\n",
        "\n",
        "\n",
        "print(\"\\n\")\n",
        "\n",
        "# Conversión de 50 RD$ a USD\n",
        "cantidad_convertida = conversor.convertir(55.6, \"RD$\", \"USD\")\n",
        "print(f\"El Agente dice: RD$55.6 equivalen a USD{cantidad_convertida}\")\n",
        "print(\"====================================================\")"
      ],
      "metadata": {
        "colab": {
          "base_uri": "https://localhost:8080/"
        },
        "id": "kfCKs_DS6uba",
        "outputId": "b6fd8078-40b0-4d12-ea65-a0e25e3d5f3f"
      },
      "execution_count": 1,
      "outputs": [
        {
          "output_type": "stream",
          "name": "stdout",
          "text": [
            "====================================================\n",
            "El Agente dice:  USD100 equivalen a RD$5560.0\n",
            "\n",
            "\n",
            "El Agente dice: RD$55.6 equivalen a USD1.0\n",
            "====================================================\n"
          ]
        }
      ]
    },
    {
      "cell_type": "code",
      "source": [
        "Input In [1], in <cell line: 1>()\n",
        "----> 1 class ConversorMoneda:\n",
        "      2     def __init__(self):\n",
        "      3         self.tipo_cambio = {\n",
        "      4             \"USD\": 1.0,\n",
        "      5             \"RD$\": 55.6,\n",
        "      6\n",
        "      7         }\n",
        "\n",
        "Input In [1], in <cell line: 1>()\n",
        "----> 1 class ConversorMoneda:\n",
        "      2     def __init__(self):\n",
        "      3         self.tipo_cambio = {\n",
        "      4             \"USD\": 1.0,\n",
        "      5             \"RD$\": 55.6,\n",
        "      6\n",
        "      7         }\n",
        "\n",
        "File _pydevd_bundle/pydevd_cython.pyx:1366, in _pydevd_bundle.pydevd_cython.SafeCallWrapper.__call__()\n",
        "\n",
        "File _pydevd_bundle/pydevd_cython.pyx:662, in _pydevd_bundle.pydevd_cython.PyDBFrame.trace_dispatch()\n",
        "\n",
        "File _pydevd_bundle/pydevd_cython.pyx:1090, in _pydevd_bundle.pydevd_cython.PyDBFrame.trace_dispatch()\n",
        "...\n",
        "-> 2059     time.sleep(0.01)\n",
        "   2061 self.cancel_async_evaluation(get_current_thread_id(thread), str(id(frame)))\n",
        "   2063 # process any stepping instructions"
      ],
      "metadata": {
        "colab": {
          "base_uri": "https://localhost:8080/",
          "height": 140
        },
        "id": "5BBe697T613y",
        "outputId": "6edccee4-8a12-4a85-d51f-e203e8756ab7"
      },
      "execution_count": 3,
      "outputs": [
        {
          "output_type": "error",
          "ename": "SyntaxError",
          "evalue": "invalid syntax (<ipython-input-3-e0f88b290eff>, line 1)",
          "traceback": [
            "\u001b[0;36m  File \u001b[0;32m\"<ipython-input-3-e0f88b290eff>\"\u001b[0;36m, line \u001b[0;32m1\u001b[0m\n\u001b[0;31m    Input In [1], in <cell line: 1>()\u001b[0m\n\u001b[0m          ^\u001b[0m\n\u001b[0;31mSyntaxError\u001b[0m\u001b[0;31m:\u001b[0m invalid syntax\n"
          ]
        }
      ]
    },
    {
      "cell_type": "markdown",
      "source": [
        "## **5. Agregue celdas de python que al ejecutarse muestre como resultado**\n",
        "\n",
        " **El factorial de un numero entero ingresado a través de un campo de formulario.**"
      ],
      "metadata": {
        "id": "yHFiz7X77hnU"
      }
    },
    {
      "cell_type": "code",
      "source": [
        "Valor1 = 10 #@param {type:\"integer\"}\n",
        "\n",
        "factorizacion = 1\n",
        "\n",
        "for i in range  (1, Valor1+1):\n",
        "   factorizacion = i * factorizacion\n",
        "\n",
        "print (factorizacion)\n"
      ],
      "metadata": {
        "colab": {
          "base_uri": "https://localhost:8080/"
        },
        "id": "hf2BRhT87pVC",
        "outputId": "2fadf379-e209-4310-9868-7d6b0aaf123d"
      },
      "execution_count": 6,
      "outputs": [
        {
          "output_type": "stream",
          "name": "stdout",
          "text": [
            "3628800\n"
          ]
        }
      ]
    },
    {
      "cell_type": "markdown",
      "source": [
        " **__La tabla de multiplicar de un numero entero ingresado a través de un campo de formulario__**"
      ],
      "metadata": {
        "id": "CTBgX9Df77jP"
      }
    },
    {
      "cell_type": "code",
      "source": [
        "Valor1 = 50 # @param {type:\"integer\"}\n",
        "\n",
        "\n",
        "for i in range (1, 13):\n",
        "      result_multi = Valor1 * i\n",
        "      print(Valor1, \" X \", i , \" = \" , result_multi)"
      ],
      "metadata": {
        "colab": {
          "base_uri": "https://localhost:8080/"
        },
        "id": "E2YKyu7m8Isr",
        "outputId": "ddfe413b-56c8-4345-99f9-2bbfa4370d28"
      },
      "execution_count": 8,
      "outputs": [
        {
          "output_type": "stream",
          "name": "stdout",
          "text": [
            "50  X  1  =  50\n",
            "50  X  2  =  100\n",
            "50  X  3  =  150\n",
            "50  X  4  =  200\n",
            "50  X  5  =  250\n",
            "50  X  6  =  300\n",
            "50  X  7  =  350\n",
            "50  X  8  =  400\n",
            "50  X  9  =  450\n",
            "50  X  10  =  500\n",
            "50  X  11  =  550\n",
            "50  X  12  =  600\n"
          ]
        }
      ]
    },
    {
      "cell_type": "markdown",
      "source": [
        "**__La tabla de multiplicar de un numero entero ingresado a través de un campo de formulario, pero que solo muestre los resultados de la multiplicación de los números pares.__**"
      ],
      "metadata": {
        "id": "K55zT4TV8ZWN"
      }
    },
    {
      "cell_type": "code",
      "source": [
        "Valor1 = 5 # @param {type:\"integer\"}\n",
        "\n",
        "for i in range (1, 13):\n",
        "     multi_par = Valor1 * i\n",
        "     if multi_par %2 == 0:\n",
        "      print(Valor1, \" X \", i, \" = \" , multi_par)\n"
      ],
      "metadata": {
        "colab": {
          "base_uri": "https://localhost:8080/"
        },
        "id": "dmneI5MZ8fUe",
        "outputId": "e33e5d22-ba1f-46b0-97ef-1e366d35f94e"
      },
      "execution_count": 7,
      "outputs": [
        {
          "output_type": "stream",
          "name": "stdout",
          "text": [
            "5  X  2  =  10\n",
            "5  X  4  =  20\n",
            "5  X  6  =  30\n",
            "5  X  8  =  40\n",
            "5  X  10  =  50\n",
            "5  X  12  =  60\n"
          ]
        }
      ]
    },
    {
      "cell_type": "markdown",
      "source": [
        "**__La tabla de multiplicar de un numero entero ingresado a través de un campo de formulario, pero que solo muestre los resultados de la multiplicación de los números impares.__**"
      ],
      "metadata": {
        "id": "GfgA8wTr8vc3"
      }
    },
    {
      "cell_type": "code",
      "source": [
        "Valor1 = 5 # @param {type:\"integer\"}\n",
        "\n",
        "for i in range (1, 13):\n",
        "     multi_par = Valor1 * i\n",
        "     if multi_par %2 == 1:\n",
        "      print(Valor1, \" X \", i, \" = \" , multi_par)"
      ],
      "metadata": {
        "colab": {
          "base_uri": "https://localhost:8080/"
        },
        "id": "13PLJDHP81Fd",
        "outputId": "753505bb-ad2a-40f6-f882-a52f9fcde58c"
      },
      "execution_count": 10,
      "outputs": [
        {
          "output_type": "stream",
          "name": "stdout",
          "text": [
            "55  X  1  =  55\n",
            "55  X  3  =  165\n",
            "55  X  5  =  275\n",
            "55  X  7  =  385\n",
            "55  X  9  =  495\n",
            "55  X  11  =  605\n"
          ]
        }
      ]
    },
    {
      "cell_type": "markdown",
      "source": [
        "## **__6. Agregue una celda de código python, que al ejecutarse defina las siguientes funciones:__**"
      ],
      "metadata": {
        "id": "BsPfg3E99Mtb"
      }
    },
    {
      "cell_type": "markdown",
      "source": [
        "**Suma(a, b) que reciba dos números y retorne la suma de los mismos.**\n"
      ],
      "metadata": {
        "id": "MT-cUmBw9VNN"
      }
    },
    {
      "cell_type": "code",
      "source": [
        "def suma_fun (Valor1, Valor2):\n",
        "    suma = Valor1 + Valor2\n",
        "    return suma\n"
      ],
      "metadata": {
        "id": "Ag2D7LYG9X4R"
      },
      "execution_count": 9,
      "outputs": []
    },
    {
      "cell_type": "markdown",
      "source": [
        "**Resta(a, b) que reciba dos números y retorne la resta de los mismos.**"
      ],
      "metadata": {
        "id": "aySKCxmQ9fk2"
      }
    },
    {
      "cell_type": "code",
      "source": [
        "def resta_fun (Valor1, Valor2):\n",
        "    resta = Valor1 - Valor2\n",
        "    return resta"
      ],
      "metadata": {
        "id": "GIpadk029hfs"
      },
      "execution_count": 11,
      "outputs": []
    },
    {
      "cell_type": "markdown",
      "source": [
        "*Multiplicación(a, b) que reciba dos números y retorne la multiplicación de los mismos.**"
      ],
      "metadata": {
        "id": "7hwftMPC-P4Z"
      }
    },
    {
      "cell_type": "code",
      "source": [
        "def multi_fun (Valor1, Valor2):\n",
        "    multiplicacion = Valor1 * Valor2\n",
        "    return multiplicacion"
      ],
      "metadata": {
        "id": "eX8X-F8l-RMd"
      },
      "execution_count": 12,
      "outputs": []
    },
    {
      "cell_type": "markdown",
      "source": [
        "**División(a, b) que reciba dos números y retorne la división de los mismos.**"
      ],
      "metadata": {
        "id": "RsHJdxaQ-ZPO"
      }
    },
    {
      "cell_type": "code",
      "source": [
        "def div_fun (Valor1, Valor2):\n",
        "    division = Valor1 / Valor2\n",
        "    return division"
      ],
      "metadata": {
        "id": "EeDdZPa8-clw"
      },
      "execution_count": 13,
      "outputs": []
    },
    {
      "cell_type": "markdown",
      "source": [
        "**potencia(a, b) que reciba dos números y retorne la potencia de los mismos.**"
      ],
      "metadata": {
        "id": "RhaI51F7-i_F"
      }
    },
    {
      "cell_type": "code",
      "source": [
        "def potencia_fun (Valor1, Valor2):\n",
        "    potenciacion = Valor1 ** Valor2\n",
        "    return potenciacion"
      ],
      "metadata": {
        "id": "3iDXntXB-kbx"
      },
      "execution_count": 14,
      "outputs": []
    },
    {
      "cell_type": "markdown",
      "source": [
        "**Ademas Agregue una celda de código python, esta debe contar con 3 campos de formulario. En el primero se ingresa un número entero, en el segundo se ingresa otro número entero, y el tercero debe ser una lista que permita elegir qué operación se va a realizar. Las opciones en la lista son las funciones definidas en la celda anterior. Al ejecutarse la celda, debe mostrar como resultado la operación seleccionada con los dos números ingresados.**"
      ],
      "metadata": {
        "id": "1jtDJEEZ-sIu"
      }
    },
    {
      "cell_type": "code",
      "source": [
        "from IPython.core import error\n",
        "Valor1 = 2 # @param {type:\"integer\"}\n",
        "Valor2 = 2 # @param {type:\"integer\"}\n",
        "Seleccionar = \"Potenciacion\" # @param [\"Suma\", \"Resta\", \"Multiplicacion\", \"Division\", \"Potenciacion\"]\n",
        "\n",
        "if (Seleccionar == \"Suma\" ):\n",
        "    print(suma_fun (Valor1,Valor2))\n",
        "\n",
        "elif (Seleccionar == \"Resta\" ):\n",
        "    print(resta_fun(Valor1,Valor2))\n",
        "\n",
        "elif (Seleccionar == \"Multiplicacion\"):\n",
        "    print(multi_fun(Valor1,Valor2))\n",
        "\n",
        "elif (Seleccionar == \"Division\"):\n",
        "    print(div_fun(Valor1,Valor2))\n",
        "\n",
        "elif (Seleccionar == \"Potenciacion\"):\n",
        "    print(potencia_fun(Valor1,Valor2))\n",
        "\n",
        "else:\n",
        "\n",
        "    print(\"¡La unidad selecionada no existe!\")"
      ],
      "metadata": {
        "colab": {
          "base_uri": "https://localhost:8080/"
        },
        "id": "5EHKjDaQ-xpV",
        "outputId": "dbfe4cc1-f70c-4266-a358-d8ea46f68d37"
      },
      "execution_count": 15,
      "outputs": [
        {
          "output_type": "stream",
          "name": "stdout",
          "text": [
            "4\n"
          ]
        }
      ]
    },
    {
      "cell_type": "markdown",
      "source": [
        "## **7. La lista de personas**"
      ],
      "metadata": {
        "id": "-1GcnlWP-7He"
      }
    },
    {
      "cell_type": "markdown",
      "source": [
        "**__Agrega una celda de código en Python que, al ejecutarse, cree un archivo de texto CSV con los encabezados \"nombre\", \"apellido\" y \"edad\" y lo guarde en el disco del entorno de Colab.__**"
      ],
      "metadata": {
        "id": "PbZAPX14-_1y"
      }
    },
    {
      "cell_type": "code",
      "source": [
        "import csv\n",
        "\n",
        "Informacion = [\n",
        "    {\"nombre\": \"Benjamin\", \"apellido\": \"Perez Guerrero\", \"edad\": \"45\"},\n",
        "]\n",
        "\n",
        "documento = \"/content/Para-tarea/mis datos.csv\"\n",
        "\n",
        "with open(documento, mode='w', newline='') as file:\n",
        "     fieldnames = [\"nombre\", \"apellido\", \"edad\"]\n",
        "     digitar= csv.DictWriter(file, fieldnames=fieldnames)\n",
        "\n",
        "     digitar.writeheader()\n",
        "\n",
        "     for row in Informacion:\n",
        "         digitar.writerow(row)"
      ],
      "metadata": {
        "id": "vbxe0aha_J22"
      },
      "execution_count": 18,
      "outputs": []
    },
    {
      "cell_type": "code",
      "source": [
        "Input In [4], in <cell line: 9>()\n",
        "      3 Informacion = [\n",
        "      4     {\"nombre\": \"Benjamin\", \"apellido\": \"Perez Guerrero\", \"edad\": \"45\"},\n",
        "      5 ]\n",
        "      7 documento = \"/content/Para-tarea/misdatos.csv\"\n",
        "----> 9 with open(documento, mode='w', newline='') as file:\n",
        "     10      fieldnames = [\"nombre\", \"apellido\", \"edad\"]\n",
        "     11      digitar= csv.DictWriter(file, fieldnames=fieldnames)\n",
        "\n",
        "FileNotFoundError: [Errno 2] No such file or directory: \"/content/Para-tarea/mis datos.csv\""
      ],
      "metadata": {
        "colab": {
          "base_uri": "https://localhost:8080/",
          "height": 140
        },
        "id": "yp67A6qt_aXF",
        "outputId": "b065ee61-1f60-49ce-f9df-7349dddd0c4f"
      },
      "execution_count": 27,
      "outputs": [
        {
          "output_type": "error",
          "ename": "SyntaxError",
          "evalue": "invalid syntax (<ipython-input-27-22a6ed9df418>, line 1)",
          "traceback": [
            "\u001b[0;36m  File \u001b[0;32m\"<ipython-input-27-22a6ed9df418>\"\u001b[0;36m, line \u001b[0;32m1\u001b[0m\n\u001b[0;31m    Input In [4], in <cell line: 9>()\u001b[0m\n\u001b[0m          ^\u001b[0m\n\u001b[0;31mSyntaxError\u001b[0m\u001b[0;31m:\u001b[0m invalid syntax\n"
          ]
        }
      ]
    },
    {
      "cell_type": "code",
      "source": [
        "import csv\n",
        "\n",
        "documento = \"/content/Para-tarea/mis datos.csv\"\n",
        "\n",
        "def arch_CSV(Nombre, Apellido, Edad):\n",
        "  with open(/content/Para-tarea/mis datos.csv, mode='a', newline='') as file:\n",
        "      fieldnames = [\"nombre\", \"apellido\", \"edad\"]\n",
        "      digitar = csv.DictWriter(file, fieldnames = fieldnames)\n",
        "\n",
        "\n",
        "      digitar.writerow({\"nombre\": nombre, \"apellido\": apellido, \"edad\": edad})\n",
        "\n",
        "nombre = input(\"Digite el nombre de la persona: \")\n",
        "apellido = input(\"ingrese su apellido: \")\n",
        "edad = input(\"Escriba la edad: \")\n",
        "\n",
        "arch_CSV (nombre, apellido, edad)"
      ],
      "metadata": {
        "colab": {
          "base_uri": "https://localhost:8080/",
          "height": 140
        },
        "id": "56V1vHT-_iMM",
        "outputId": "20a4e459-219b-4aa1-d2ce-51b6695c5c42"
      },
      "execution_count": 23,
      "outputs": [
        {
          "output_type": "error",
          "ename": "SyntaxError",
          "evalue": "invalid syntax (<ipython-input-23-8e245fa1f5a1>, line 6)",
          "traceback": [
            "\u001b[0;36m  File \u001b[0;32m\"<ipython-input-23-8e245fa1f5a1>\"\u001b[0;36m, line \u001b[0;32m6\u001b[0m\n\u001b[0;31m    with open(/content/Para-tarea/mis datos.csv, mode='a', newline='') as file:\u001b[0m\n\u001b[0m              ^\u001b[0m\n\u001b[0;31mSyntaxError\u001b[0m\u001b[0;31m:\u001b[0m invalid syntax\n"
          ]
        }
      ]
    },
    {
      "cell_type": "markdown",
      "source": [
        "**__Finalmente, agrega una tercera celda de código Python que, al ejecutarse, muestre las entradas del archivo CSV creado anteriormente. El programa debe permitir al usuario elegir el campo por el cual se ordenarán las entradas, ya sea por nombre, apellido o edad, y mostrar las entradas ordenadas según el campo seleccionado.__**"
      ],
      "metadata": {
        "id": "xF87Ozqw_0Hq"
      }
    },
    {
      "cell_type": "code",
      "source": [
        "import csv\n",
        "\n",
        "documento = \"/content/Para-tarea/mis datos.csv\"\n",
        "\n",
        "def abrir_documento(camp):\n",
        "  with open(documento, mode='r') as file:\n",
        "    leer = csv.DictReader(file)\n",
        "\n",
        "    Informacion = list(leer)\n",
        "\n",
        "    Organizar = sorted(Informacion, key=lambda x: x[camp])\n",
        "\n",
        "    for i in Organizar:\n",
        "      print(f\"Nombre: {i['nombre']}, Apellido: {i['apellido']}, Edad: {i['edad']}\")\n",
        "\n",
        "camp = input(\"Escoja un campo para organizar la entrada (nombre, apellido o edad): \").lower()\n",
        "\n",
        "if camp in [\"nombre\", \"apellido\", \"edad\"]:\n",
        "    print(f\"Entradas ordenadas por {camp}:\")\n",
        "    abrir_documento(camp)\n",
        "else:\n",
        "    print(\"¡ADVERTENCIA, CAMPO NO ACEPTADO!. Debe ser 'Nombre', 'Apellido' o 'Edad'.\")"
      ],
      "metadata": {
        "colab": {
          "base_uri": "https://localhost:8080/"
        },
        "id": "2YKMdKCW_5Qv",
        "outputId": "b9eac2c8-bfa6-4335-b05f-ad7e61931bc4"
      },
      "execution_count": 24,
      "outputs": [
        {
          "output_type": "stream",
          "name": "stdout",
          "text": [
            "Escoja un campo para organizar la entrada (nombre, apellido o edad): Benjamin\n",
            "¡ADVERTENCIA, CAMPO NO ACEPTADO!. Debe ser 'Nombre', 'Apellido' o 'Edad'.\n"
          ]
        }
      ]
    }
  ]
}